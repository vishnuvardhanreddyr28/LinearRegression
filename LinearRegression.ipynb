{
 "cells": [
  {
   "cell_type": "code",
   "execution_count": 109,
   "metadata": {},
   "outputs": [],
   "source": [
    "import numpy as np\n",
    "import pandas as pd\n",
    "import random"
   ]
  },
  {
   "cell_type": "code",
   "execution_count": 223,
   "metadata": {},
   "outputs": [
    {
     "name": "stdout",
     "output_type": "stream",
     "text": [
      "(100, 6)\n",
      "size of data : (100, 6)\n",
      "size of y:  (100,)\n"
     ]
    }
   ],
   "source": [
    "def generate_data(n,m,sigma,e):\n",
    "    mean=0\n",
    "    \n",
    "    #Generate data\n",
    "    data=np.random.normal(mean,sigma,size=[n,m])\n",
    "    \n",
    "    #generate all the parameters of size m\n",
    "    param=np.array([random.randrange(5,20,1) for x in range(m+1)])\n",
    "    \n",
    "    #add extra x=1 column for all n values\n",
    "    columnx=np.array([[1] for x in range(n)])\n",
    "    data=np.append(data,columnx,axis=1)\n",
    "    \n",
    "    print(data.shape)\n",
    "    \n",
    "    #use equation y=m*x+c to obtain y values where c is the unexplained error\n",
    "    y=np.dot(data,param)  \n",
    "    y+=e\n",
    "    \n",
    "    print(\"size of data :\",data.shape)\n",
    "    print(\"size of y: \",y.shape)\n",
    "    return data,parm,y\n",
    "\n",
    "    \n",
    "\n",
    "data,actualparam,y=generate_data(100,5,0.1,0.1)    "
   ]
  },
  {
   "cell_type": "code",
   "execution_count": 224,
   "metadata": {},
   "outputs": [],
   "source": [
    "def cost_function(yactual,ypredicted):\n",
    "    return (sum(yactual-ypredicted))"
   ]
  },
  {
   "cell_type": "code",
   "execution_count": 225,
   "metadata": {},
   "outputs": [],
   "source": [
    "def deraivative(data,yactual,ypredicted):\n",
    "    y=(yactual-ypredicted).reshape(1,len(data))\n",
    "    y=np.dot(y,data)\n",
    "    return y.reshape(len(data[0]),)\n",
    "    \n",
    "    "
   ]
  },
  {
   "cell_type": "code",
   "execution_count": 231,
   "metadata": {},
   "outputs": [],
   "source": [
    "def gradient_descent(data,param,yactual,epochs,lr):\n",
    "    for i in range(epochs):\n",
    "        #print(\"epoch number :\",i)\n",
    "        ypredicted=np.dot(data,param)\n",
    "        #print(\"error :\",cost_function(yactual,ypredicted))\n",
    "        der=2*lr*deraivative(data,yactual,ypredicted)/len(data)\n",
    "        param=param+2*lr*der/len(data)  \n",
    "    print(\"error :\",cost_function(yactual,ypredicted))"
   ]
  },
  {
   "cell_type": "code",
   "execution_count": 233,
   "metadata": {},
   "outputs": [
    {
     "name": "stdout",
     "output_type": "stream",
     "text": [
      "error : 0.862420171466284\n"
     ]
    }
   ],
   "source": [
    "gradient_descent(data,np.array([0]*6),y,20000,0.1)"
   ]
  },
  {
   "cell_type": "markdown",
   "metadata": {},
   "source": [
    "NOTE:-\n",
    "The above methods depend on the parameters ,learning rate.So it is very important to initialize them properly\n",
    "1.Parameters:-Initializing parameters with zero always seems a good choice,but you can change it according to your data for faster convergence\n",
    "2.Learning rate-0.01 is the standard learning rate which evry one chooses,but you can update it after checking it for a few epochs,or you can use momentum based gradient descent.\n",
    "\n",
    "Data analysis\n",
    "In the above data we have taken mean 0 and sigma as 0.1 which forms almosta perfect normal distribution of data.So make sure your data is normally ditributed.\n",
    "\n",
    "Note in the above case if you increase variance then the epochs required for convergence go up.\n",
    "Increasing the size of the data set  also required more epochs to converge.\n",
    "\n"
   ]
  }
 ],
 "metadata": {
  "kernelspec": {
   "display_name": "Python 3",
   "language": "python",
   "name": "python3"
  },
  "language_info": {
   "codemirror_mode": {
    "name": "ipython",
    "version": 3
   },
   "file_extension": ".py",
   "mimetype": "text/x-python",
   "name": "python",
   "nbconvert_exporter": "python",
   "pygments_lexer": "ipython3",
   "version": "3.8.3"
  }
 },
 "nbformat": 4,
 "nbformat_minor": 4
}
